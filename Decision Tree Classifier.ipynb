{
 "cells": [
  {
   "cell_type": "markdown",
   "metadata": {},
   "source": [
    "# Understanding Decision Tree Classifier"
   ]
  },
  {
   "cell_type": "code",
   "execution_count": 1,
   "metadata": {},
   "outputs": [],
   "source": [
    "'''\n",
    "    To classify for fish or not fish \n",
    "    0 = Can survive without coming to surface?\n",
    "    1 = Has flippers?\n",
    "    2 = Fish?\n",
    "'''\n",
    "def create_dataset():\n",
    "    dataset = [\n",
    "        [1,1,'yes'],\n",
    "        [1,1,'yes'],\n",
    "        [1,0,'no'],\n",
    "        [0,1,'no'],\n",
    "        [0,1,'no'],\n",
    "    ]\n",
    "    labels = ['no surfacing','flippers']\n",
    "    return dataset,labels"
   ]
  },
  {
   "cell_type": "code",
   "execution_count": 2,
   "metadata": {},
   "outputs": [],
   "source": [
    "dataset,labels = create_dataset()"
   ]
  },
  {
   "cell_type": "code",
   "execution_count": 3,
   "metadata": {},
   "outputs": [],
   "source": [
    "#Calculate Shanon Entropy \n",
    "from math import log\n",
    "\n",
    "def calcShanonEnt(dataSet):\n",
    "    numEntries = len(dataset)\n",
    "    labelCount = {} # dictionary for xi\n",
    "    for featVec in dataset:\n",
    "        currentLabel = featVec[-1]\n",
    "        if currentLabel not in labelCount:\n",
    "            labelCount[currentLabel] = 0\n",
    "        labelCount[currentLabel] +=1\n",
    "    shanonEnt = 0.0\n",
    "    for key in labelCount:\n",
    "        prob = float(labelCount[key])/numEntries # P(xi) = xi/n\n",
    "        shanonEnt -= prob * log(prob,2)        \n",
    "    return shanonEnt"
   ]
  },
  {
   "cell_type": "code",
   "execution_count": 4,
   "metadata": {},
   "outputs": [],
   "source": [
    "def splitDataset(dataSet,axis,value):\n",
    "    '''\n",
    "        dataset -> dataset to split\n",
    "        axis -> the feature  to split on\n",
    "        value -> value of feature to return\n",
    "    '''\n",
    "    \n",
    "    retDataSet = []\n",
    "    for featVec in dataSet:\n",
    "        if featVec[axis] == value:\n",
    "            reducedFeatVec =  featVec[:axis]\n",
    "            reducedFeatVec.extend(featVec[axis+1:])\n",
    "            retDataSet.append(reducedFeatVec)\n",
    "    return retDataSet"
   ]
  },
  {
   "cell_type": "code",
   "execution_count": 5,
   "metadata": {},
   "outputs": [
    {
     "data": {
      "text/plain": [
       "[[1, 'no'], [1, 'no']]"
      ]
     },
     "execution_count": 5,
     "metadata": {},
     "output_type": "execute_result"
    }
   ],
   "source": [
    "splitDataset(dataset,0,0)"
   ]
  },
  {
   "cell_type": "code",
   "execution_count": 6,
   "metadata": {},
   "outputs": [],
   "source": [
    "def chooseBestFeatureToSplit(dataset):\n",
    "    numFeatures = len(dataset[0])-1\n",
    "    baseEntropy = calcShanonEnt(dataset)\n",
    "    baseInfoGain = 0.0\n",
    "    bestFeature = -1\n",
    "    for i in range(numFeatures):\n",
    "        featList = [example[i] for example in dataset]\n",
    "        uniqueVals = set(featList)\n",
    "        newEntropy = 0.0\n",
    "        for value in uniqueVals:\n",
    "            subDataset = splitDataset(dataset,i,value)\n",
    "            prob = len(subDataset)/float(len(dataset))\n",
    "            newEntropy +=prob *calcShanonEnt(subDataset)\n",
    "            infoGain = baseEntropy - newEntropy\n",
    "            if (infoGain>baseInfoGain):\n",
    "                bestInfoGain = infoGain\n",
    "                bestFeature = i\n",
    "        return bestFeature            "
   ]
  },
  {
   "cell_type": "code",
   "execution_count": 7,
   "metadata": {},
   "outputs": [],
   "source": [
    "import operator\n",
    "def majorityCount(classList):\n",
    "    classCount = {}\n",
    "    for label in classList:\n",
    "        if label not in classCount.keys():classCount[label] = 0\n",
    "        classCount[label] += 1\n",
    "    sortedClassCount = sorted(classCount.items(),key = operator.itemgetter(1),reverse=True)\n",
    "    return sortedClassCount[0][0]"
   ]
  },
  {
   "cell_type": "code",
   "execution_count": 8,
   "metadata": {},
   "outputs": [],
   "source": [
    "def createTree(dataset,lables):\n",
    "    classList = [example[-1] for example in dataset]\n",
    "    if classList.count(classList[0]) == len(classList):\n",
    "        return classList[0]\n",
    "    if len(classList[0]) == 1:\n",
    "        return majorityCount(classList)\n",
    "    bestFeat = chooseBestFeatureToSplit(dataset)\n",
    "    bestFeatLabel = lables[bestFeat]\n",
    "    tree = {bestFeatLabel:{}}\n",
    "    del(labels[bestFeat])\n",
    "    featValues = [example[bestFeat] for example in dataset]\n",
    "    uniqueVals = set(featValues)\n",
    "    for value in uniqueVals:\n",
    "        subLabels = labels[:]\n",
    "        tree[bestFeatLabel][value] = createTree(splitDataset(dataset,bestFeat,value),subLabels)\n",
    "    return tree\n",
    "    "
   ]
  },
  {
   "cell_type": "code",
   "execution_count": 9,
   "metadata": {},
   "outputs": [
    {
     "data": {
      "text/plain": [
       "{'no surfacing': {0: 'no', 1: {'flippers': {0: 'no', 1: 'yes'}}}}"
      ]
     },
     "execution_count": 9,
     "metadata": {},
     "output_type": "execute_result"
    }
   ],
   "source": [
    "createTree(dataset,labels)"
   ]
  }
 ],
 "metadata": {
  "kernelspec": {
   "display_name": "Python 3",
   "language": "python",
   "name": "python3"
  },
  "language_info": {
   "codemirror_mode": {
    "name": "ipython",
    "version": 3
   },
   "file_extension": ".py",
   "mimetype": "text/x-python",
   "name": "python",
   "nbconvert_exporter": "python",
   "pygments_lexer": "ipython3",
   "version": "3.6.7"
  }
 },
 "nbformat": 4,
 "nbformat_minor": 2
}
